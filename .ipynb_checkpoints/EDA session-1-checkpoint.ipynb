{
 "cells": [
  {
   "cell_type": "code",
   "execution_count": 1,
   "id": "350207e8-6dc1-4c95-94f4-5c6ce4706db0",
   "metadata": {},
   "outputs": [
    {
     "data": {
      "text/plain": [
       "30"
      ]
     },
     "execution_count": 1,
     "metadata": {},
     "output_type": "execute_result"
    }
   ],
   "source": [
    "a=10\n",
    "b=20\n",
    "c=a+b\n",
    "c"
   ]
  },
  {
   "cell_type": "code",
   "execution_count": null,
   "id": "0b0dcb7b-ad84-47ac-a420-4487aa83384b",
   "metadata": {},
   "outputs": [],
   "source": [
    "============================== EDA ==========================\n",
    "1) Pandas: Data frame applications\n",
    "2) Numpy: Numerical python All math applications\n",
    "3) Matplotlib: used for plotting\n",
    "4) Seaborn: used for plot\n",
    "5) plotly: use for plot\n",
    "6) Bokhe: plot\n",
    "================================ Machine learning ==============\n",
    "7) Sickit-learn: sklearn\n",
    "================================ Deep learning =================\n",
    "8) Tensorflow: Google\n",
    "9) Keras: Google\n",
    "10) Pytorch: Facebook\n",
    "================================== NLP ========================\n",
    "11) NLTK: Natural language tool kit\n",
    "12) Scipy\n",
    "==================================== BERT ======================\n",
    "13) Transformers: Hugging face(Google)\n",
    "============================== Google models =================\n",
    "14) Specific Google packages\n",
    "============================== Azure ML =================\n",
    "15) Azure packages\n",
    "============================== GenAI ================\n",
    "16) Geminiai: Google\n",
    "17) ChatGPT: OpenAI\n",
    "============================ LangChain ==================\n",
    "18) LangChain Packages\n"
   ]
  },
  {
   "cell_type": "markdown",
   "id": "34cc2bd2-5a66-44ef-9697-00ac73d3419d",
   "metadata": {},
   "source": [
    "**Create a dataframe using list**"
   ]
  },
  {
   "cell_type": "code",
   "execution_count": null,
   "id": "80512a5c-9153-477d-93a9-dbc33acfe7b4",
   "metadata": {},
   "outputs": [],
   "source": [
    "- list==== dictionary\n",
    "- dictionary===list"
   ]
  },
  {
   "cell_type": "markdown",
   "id": "931bc5ad-b3ce-42e9-abb7-40ac9188df9f",
   "metadata": {},
   "source": [
    "$Step-1:$\n",
    "**create a dataframe**"
   ]
  },
  {
   "cell_type": "code",
   "execution_count": 1,
   "id": "bc8bcf8e-9323-4bd4-928e-e2a76b4b4822",
   "metadata": {},
   "outputs": [
    {
     "data": {
      "text/html": [
       "<div>\n",
       "<style scoped>\n",
       "    .dataframe tbody tr th:only-of-type {\n",
       "        vertical-align: middle;\n",
       "    }\n",
       "\n",
       "    .dataframe tbody tr th {\n",
       "        vertical-align: top;\n",
       "    }\n",
       "\n",
       "    .dataframe thead th {\n",
       "        text-align: right;\n",
       "    }\n",
       "</style>\n",
       "<table border=\"1\" class=\"dataframe\">\n",
       "  <thead>\n",
       "    <tr style=\"text-align: right;\">\n",
       "      <th></th>\n",
       "    </tr>\n",
       "  </thead>\n",
       "  <tbody>\n",
       "  </tbody>\n",
       "</table>\n",
       "</div>"
      ],
      "text/plain": [
       "Empty DataFrame\n",
       "Columns: []\n",
       "Index: []"
      ]
     },
     "execution_count": 1,
     "metadata": {},
     "output_type": "execute_result"
    }
   ],
   "source": [
    "import pandas as pd\n",
    "names=['Ayush','Avinash','Akash']\n",
    "pd.DataFrame() "
   ]
  },
  {
   "cell_type": "markdown",
   "id": "1f190f38-6ac9-4653-b911-98e4059c71a1",
   "metadata": {},
   "source": [
    "$step-2:$\n",
    "**Provide the data**"
   ]
  },
  {
   "cell_type": "code",
   "execution_count": 2,
   "id": "650c004a-181b-4cc1-ac06-60c96f8a4bc5",
   "metadata": {},
   "outputs": [
    {
     "data": {
      "text/html": [
       "<div>\n",
       "<style scoped>\n",
       "    .dataframe tbody tr th:only-of-type {\n",
       "        vertical-align: middle;\n",
       "    }\n",
       "\n",
       "    .dataframe tbody tr th {\n",
       "        vertical-align: top;\n",
       "    }\n",
       "\n",
       "    .dataframe thead th {\n",
       "        text-align: right;\n",
       "    }\n",
       "</style>\n",
       "<table border=\"1\" class=\"dataframe\">\n",
       "  <thead>\n",
       "    <tr style=\"text-align: right;\">\n",
       "      <th></th>\n",
       "      <th>0</th>\n",
       "    </tr>\n",
       "  </thead>\n",
       "  <tbody>\n",
       "    <tr>\n",
       "      <th>0</th>\n",
       "      <td>Ayush</td>\n",
       "    </tr>\n",
       "    <tr>\n",
       "      <th>1</th>\n",
       "      <td>Avinash</td>\n",
       "    </tr>\n",
       "    <tr>\n",
       "      <th>2</th>\n",
       "      <td>Akash</td>\n",
       "    </tr>\n",
       "  </tbody>\n",
       "</table>\n",
       "</div>"
      ],
      "text/plain": [
       "         0\n",
       "0    Ayush\n",
       "1  Avinash\n",
       "2    Akash"
      ]
     },
     "execution_count": 2,
     "metadata": {},
     "output_type": "execute_result"
    }
   ],
   "source": [
    "names=['Ayush','Avinash','Akash']\n",
    "pd.DataFrame(names)"
   ]
  },
  {
   "cell_type": "code",
   "execution_count": 3,
   "id": "5d4e79bf-4aa7-4bfd-8c7d-ec7259ee4486",
   "metadata": {},
   "outputs": [
    {
     "data": {
      "text/html": [
       "<div>\n",
       "<style scoped>\n",
       "    .dataframe tbody tr th:only-of-type {\n",
       "        vertical-align: middle;\n",
       "    }\n",
       "\n",
       "    .dataframe tbody tr th {\n",
       "        vertical-align: top;\n",
       "    }\n",
       "\n",
       "    .dataframe thead th {\n",
       "        text-align: right;\n",
       "    }\n",
       "</style>\n",
       "<table border=\"1\" class=\"dataframe\">\n",
       "  <thead>\n",
       "    <tr style=\"text-align: right;\">\n",
       "      <th></th>\n",
       "      <th>0</th>\n",
       "      <th>1</th>\n",
       "    </tr>\n",
       "  </thead>\n",
       "  <tbody>\n",
       "    <tr>\n",
       "      <th>0</th>\n",
       "      <td>Ayush</td>\n",
       "      <td>25</td>\n",
       "    </tr>\n",
       "    <tr>\n",
       "      <th>1</th>\n",
       "      <td>Avinash</td>\n",
       "      <td>30</td>\n",
       "    </tr>\n",
       "    <tr>\n",
       "      <th>2</th>\n",
       "      <td>Akash</td>\n",
       "      <td>35</td>\n",
       "    </tr>\n",
       "  </tbody>\n",
       "</table>\n",
       "</div>"
      ],
      "text/plain": [
       "         0   1\n",
       "0    Ayush  25\n",
       "1  Avinash  30\n",
       "2    Akash  35"
      ]
     },
     "execution_count": 3,
     "metadata": {},
     "output_type": "execute_result"
    }
   ],
   "source": [
    "names=['Ayush','Avinash','Akash']\n",
    "age=[25,30,35]\n",
    "pd.DataFrame(zip(names,age))\n",
    "# what is the first positional argument: data\n",
    "# second positional argument: index"
   ]
  },
  {
   "cell_type": "code",
   "execution_count": 4,
   "id": "f20cf784-7844-4772-90b6-615629567faf",
   "metadata": {},
   "outputs": [
    {
     "data": {
      "text/html": [
       "<div>\n",
       "<style scoped>\n",
       "    .dataframe tbody tr th:only-of-type {\n",
       "        vertical-align: middle;\n",
       "    }\n",
       "\n",
       "    .dataframe tbody tr th {\n",
       "        vertical-align: top;\n",
       "    }\n",
       "\n",
       "    .dataframe thead th {\n",
       "        text-align: right;\n",
       "    }\n",
       "</style>\n",
       "<table border=\"1\" class=\"dataframe\">\n",
       "  <thead>\n",
       "    <tr style=\"text-align: right;\">\n",
       "      <th></th>\n",
       "      <th>0</th>\n",
       "      <th>1</th>\n",
       "    </tr>\n",
       "  </thead>\n",
       "  <tbody>\n",
       "    <tr>\n",
       "      <th>hyd</th>\n",
       "      <td>Ayush</td>\n",
       "      <td>25</td>\n",
       "    </tr>\n",
       "    <tr>\n",
       "      <th>blr</th>\n",
       "      <td>Avinash</td>\n",
       "      <td>30</td>\n",
       "    </tr>\n",
       "    <tr>\n",
       "      <th>chennai</th>\n",
       "      <td>Akash</td>\n",
       "      <td>35</td>\n",
       "    </tr>\n",
       "  </tbody>\n",
       "</table>\n",
       "</div>"
      ],
      "text/plain": [
       "               0   1\n",
       "hyd        Ayush  25\n",
       "blr      Avinash  30\n",
       "chennai    Akash  35"
      ]
     },
     "execution_count": 4,
     "metadata": {},
     "output_type": "execute_result"
    }
   ],
   "source": [
    "names=['Ayush','Avinash','Akash']\n",
    "age=[25,30,35]\n",
    "city=['hyd','blr','chennai']\n",
    "data=zip(names,age)\n",
    "pd.DataFrame(data,city)"
   ]
  },
  {
   "cell_type": "markdown",
   "id": "1ffe9589-44e3-49bb-b163-4c0c98ccac3c",
   "metadata": {},
   "source": [
    "$step-3:$\n",
    "**Provide the column names**"
   ]
  },
  {
   "cell_type": "code",
   "execution_count": 5,
   "id": "ccba1cc6-9e94-4876-b44d-6516f9862cea",
   "metadata": {},
   "outputs": [
    {
     "data": {
      "text/html": [
       "<div>\n",
       "<style scoped>\n",
       "    .dataframe tbody tr th:only-of-type {\n",
       "        vertical-align: middle;\n",
       "    }\n",
       "\n",
       "    .dataframe tbody tr th {\n",
       "        vertical-align: top;\n",
       "    }\n",
       "\n",
       "    .dataframe thead th {\n",
       "        text-align: right;\n",
       "    }\n",
       "</style>\n",
       "<table border=\"1\" class=\"dataframe\">\n",
       "  <thead>\n",
       "    <tr style=\"text-align: right;\">\n",
       "      <th></th>\n",
       "      <th>Names</th>\n",
       "      <th>Age</th>\n",
       "    </tr>\n",
       "  </thead>\n",
       "  <tbody>\n",
       "    <tr>\n",
       "      <th>0</th>\n",
       "      <td>Ayush</td>\n",
       "      <td>25</td>\n",
       "    </tr>\n",
       "    <tr>\n",
       "      <th>1</th>\n",
       "      <td>Avinash</td>\n",
       "      <td>30</td>\n",
       "    </tr>\n",
       "    <tr>\n",
       "      <th>2</th>\n",
       "      <td>Akash</td>\n",
       "      <td>35</td>\n",
       "    </tr>\n",
       "  </tbody>\n",
       "</table>\n",
       "</div>"
      ],
      "text/plain": [
       "     Names  Age\n",
       "0    Ayush   25\n",
       "1  Avinash   30\n",
       "2    Akash   35"
      ]
     },
     "execution_count": 5,
     "metadata": {},
     "output_type": "execute_result"
    }
   ],
   "source": [
    "names=['Ayush','Avinash','Akash']\n",
    "age=[25,30,35]\n",
    "pd.DataFrame(zip(names,age),columns=['Names','Age'])"
   ]
  },
  {
   "cell_type": "code",
   "execution_count": 8,
   "id": "07468fac-c884-4b84-b229-06b6a16665c0",
   "metadata": {},
   "outputs": [
    {
     "data": {
      "text/html": [
       "<div>\n",
       "<style scoped>\n",
       "    .dataframe tbody tr th:only-of-type {\n",
       "        vertical-align: middle;\n",
       "    }\n",
       "\n",
       "    .dataframe tbody tr th {\n",
       "        vertical-align: top;\n",
       "    }\n",
       "\n",
       "    .dataframe thead th {\n",
       "        text-align: right;\n",
       "    }\n",
       "</style>\n",
       "<table border=\"1\" class=\"dataframe\">\n",
       "  <thead>\n",
       "    <tr style=\"text-align: right;\">\n",
       "      <th></th>\n",
       "      <th>Names</th>\n",
       "      <th>Age</th>\n",
       "      <th>City</th>\n",
       "    </tr>\n",
       "  </thead>\n",
       "  <tbody>\n",
       "    <tr>\n",
       "      <th>0</th>\n",
       "      <td>Ayush</td>\n",
       "      <td>25</td>\n",
       "      <td>hyd</td>\n",
       "    </tr>\n",
       "    <tr>\n",
       "      <th>1</th>\n",
       "      <td>Avinash</td>\n",
       "      <td>30</td>\n",
       "      <td>blr</td>\n",
       "    </tr>\n",
       "    <tr>\n",
       "      <th>2</th>\n",
       "      <td>Akash</td>\n",
       "      <td>35</td>\n",
       "      <td>chennai</td>\n",
       "    </tr>\n",
       "  </tbody>\n",
       "</table>\n",
       "</div>"
      ],
      "text/plain": [
       "     Names  Age     City\n",
       "0    Ayush   25      hyd\n",
       "1  Avinash   30      blr\n",
       "2    Akash   35  chennai"
      ]
     },
     "execution_count": 8,
     "metadata": {},
     "output_type": "execute_result"
    }
   ],
   "source": [
    "names=['Ayush','Avinash','Akash']\n",
    "age=[25,30,35]\n",
    "city=['hyd','blr','chennai']\n",
    "data=zip(names,age,city)\n",
    "cols=['Names','Age','City']\n",
    "pd.DataFrame(data,columns=cols)"
   ]
  },
  {
   "cell_type": "code",
   "execution_count": 9,
   "id": "afb1763f-43f8-4b7b-a01d-c5a51e002568",
   "metadata": {},
   "outputs": [
    {
     "data": {
      "text/plain": [
       "pandas.core.frame.DataFrame"
      ]
     },
     "execution_count": 9,
     "metadata": {},
     "output_type": "execute_result"
    }
   ],
   "source": [
    "df=pd.DataFrame(data,columns=cols)\n",
    "type(df)"
   ]
  },
  {
   "cell_type": "markdown",
   "id": "4c15dec3-3c4e-41b5-a88b-3f8841e70040",
   "metadata": {},
   "source": [
    "$Step-4:$\n",
    "**Add new column**"
   ]
  },
  {
   "cell_type": "code",
   "execution_count": null,
   "id": "b2a5abc8-be66-47e0-8fdc-1a4c2e27f877",
   "metadata": {},
   "outputs": [],
   "source": [
    "- If you want to add new column\n",
    "- first you need to check the number of rows in already"
   ]
  },
  {
   "cell_type": "code",
   "execution_count": 12,
   "id": "791444ab-1fb3-4718-901d-daeae3fe7ee7",
   "metadata": {},
   "outputs": [
    {
     "data": {
      "text/html": [
       "<div>\n",
       "<style scoped>\n",
       "    .dataframe tbody tr th:only-of-type {\n",
       "        vertical-align: middle;\n",
       "    }\n",
       "\n",
       "    .dataframe tbody tr th {\n",
       "        vertical-align: top;\n",
       "    }\n",
       "\n",
       "    .dataframe thead th {\n",
       "        text-align: right;\n",
       "    }\n",
       "</style>\n",
       "<table border=\"1\" class=\"dataframe\">\n",
       "  <thead>\n",
       "    <tr style=\"text-align: right;\">\n",
       "      <th></th>\n",
       "      <th>Names</th>\n",
       "      <th>Age</th>\n",
       "      <th>City</th>\n",
       "      <th>JOB</th>\n",
       "    </tr>\n",
       "  </thead>\n",
       "  <tbody>\n",
       "    <tr>\n",
       "      <th>0</th>\n",
       "      <td>NaN</td>\n",
       "      <td>NaN</td>\n",
       "      <td>NaN</td>\n",
       "      <td>DS</td>\n",
       "    </tr>\n",
       "    <tr>\n",
       "      <th>1</th>\n",
       "      <td>NaN</td>\n",
       "      <td>NaN</td>\n",
       "      <td>NaN</td>\n",
       "      <td>DE</td>\n",
       "    </tr>\n",
       "    <tr>\n",
       "      <th>2</th>\n",
       "      <td>NaN</td>\n",
       "      <td>NaN</td>\n",
       "      <td>NaN</td>\n",
       "      <td>CS</td>\n",
       "    </tr>\n",
       "  </tbody>\n",
       "</table>\n",
       "</div>"
      ],
      "text/plain": [
       "  Names  Age City JOB\n",
       "0   NaN  NaN  NaN  DS\n",
       "1   NaN  NaN  NaN  DE\n",
       "2   NaN  NaN  NaN  CS"
      ]
     },
     "execution_count": 12,
     "metadata": {},
     "output_type": "execute_result"
    }
   ],
   "source": [
    "job=['DS','DE','CS']\n",
    "df['JOB']=job\n",
    "df"
   ]
  },
  {
   "cell_type": "code",
   "execution_count": 15,
   "id": "be5369c0-805d-4316-bce2-f67c96fedb6b",
   "metadata": {},
   "outputs": [],
   "source": [
    "import pandas as pd\n",
    "names=['Ayush','Avinash','Akash']\n",
    "age=[25,30,35]\n",
    "city=['hyd','blr','chennai']\n",
    "data=zip(names,age,city)\n",
    "cols=['Names','Age','City']\n",
    "df=pd.DataFrame(data,columns=cols)"
   ]
  },
  {
   "cell_type": "code",
   "execution_count": 16,
   "id": "7e5e9c9f-7078-4b31-a7ee-078823aeae9c",
   "metadata": {},
   "outputs": [
    {
     "data": {
      "text/html": [
       "<div>\n",
       "<style scoped>\n",
       "    .dataframe tbody tr th:only-of-type {\n",
       "        vertical-align: middle;\n",
       "    }\n",
       "\n",
       "    .dataframe tbody tr th {\n",
       "        vertical-align: top;\n",
       "    }\n",
       "\n",
       "    .dataframe thead th {\n",
       "        text-align: right;\n",
       "    }\n",
       "</style>\n",
       "<table border=\"1\" class=\"dataframe\">\n",
       "  <thead>\n",
       "    <tr style=\"text-align: right;\">\n",
       "      <th></th>\n",
       "      <th>Names</th>\n",
       "      <th>Age</th>\n",
       "      <th>City</th>\n",
       "      <th>JOB</th>\n",
       "    </tr>\n",
       "  </thead>\n",
       "  <tbody>\n",
       "    <tr>\n",
       "      <th>0</th>\n",
       "      <td>Ayush</td>\n",
       "      <td>25</td>\n",
       "      <td>hyd</td>\n",
       "      <td>DS</td>\n",
       "    </tr>\n",
       "    <tr>\n",
       "      <th>1</th>\n",
       "      <td>Avinash</td>\n",
       "      <td>30</td>\n",
       "      <td>blr</td>\n",
       "      <td>DE</td>\n",
       "    </tr>\n",
       "    <tr>\n",
       "      <th>2</th>\n",
       "      <td>Akash</td>\n",
       "      <td>35</td>\n",
       "      <td>chennai</td>\n",
       "      <td>CS</td>\n",
       "    </tr>\n",
       "  </tbody>\n",
       "</table>\n",
       "</div>"
      ],
      "text/plain": [
       "     Names  Age     City JOB\n",
       "0    Ayush   25      hyd  DS\n",
       "1  Avinash   30      blr  DE\n",
       "2    Akash   35  chennai  CS"
      ]
     },
     "execution_count": 16,
     "metadata": {},
     "output_type": "execute_result"
    }
   ],
   "source": [
    "job=['DS','DE','CS']\n",
    "df['JOB']=job\n",
    "df"
   ]
  },
  {
   "cell_type": "markdown",
   "id": "6a60c4bd-9268-416d-bdb7-616716d92c5f",
   "metadata": {},
   "source": [
    "$step-5$\n",
    "**Update the already existed column**"
   ]
  },
  {
   "cell_type": "markdown",
   "id": "03fdde43-73f3-4003-aa4b-9ae11b5d8e2c",
   "metadata": {},
   "source": [
    "$step-6$ \n",
    "**Change index**"
   ]
  },
  {
   "cell_type": "code",
   "execution_count": 17,
   "id": "f52d444c-bf9c-46f0-9d59-9a456026f99b",
   "metadata": {},
   "outputs": [
    {
     "data": {
      "text/html": [
       "<div>\n",
       "<style scoped>\n",
       "    .dataframe tbody tr th:only-of-type {\n",
       "        vertical-align: middle;\n",
       "    }\n",
       "\n",
       "    .dataframe tbody tr th {\n",
       "        vertical-align: top;\n",
       "    }\n",
       "\n",
       "    .dataframe thead th {\n",
       "        text-align: right;\n",
       "    }\n",
       "</style>\n",
       "<table border=\"1\" class=\"dataframe\">\n",
       "  <thead>\n",
       "    <tr style=\"text-align: right;\">\n",
       "      <th></th>\n",
       "      <th>Names</th>\n",
       "      <th>Age</th>\n",
       "      <th>City</th>\n",
       "    </tr>\n",
       "  </thead>\n",
       "  <tbody>\n",
       "    <tr>\n",
       "      <th>A</th>\n",
       "      <td>Ayush</td>\n",
       "      <td>25</td>\n",
       "      <td>hyd</td>\n",
       "    </tr>\n",
       "    <tr>\n",
       "      <th>B</th>\n",
       "      <td>Avinash</td>\n",
       "      <td>30</td>\n",
       "      <td>blr</td>\n",
       "    </tr>\n",
       "    <tr>\n",
       "      <th>C</th>\n",
       "      <td>Akash</td>\n",
       "      <td>35</td>\n",
       "      <td>chennai</td>\n",
       "    </tr>\n",
       "    <tr>\n",
       "      <th>D</th>\n",
       "      <td>Anvi</td>\n",
       "      <td>40</td>\n",
       "      <td>Mumbai</td>\n",
       "    </tr>\n",
       "  </tbody>\n",
       "</table>\n",
       "</div>"
      ],
      "text/plain": [
       "     Names  Age     City\n",
       "A    Ayush   25      hyd\n",
       "B  Avinash   30      blr\n",
       "C    Akash   35  chennai\n",
       "D     Anvi   40   Mumbai"
      ]
     },
     "execution_count": 17,
     "metadata": {},
     "output_type": "execute_result"
    }
   ],
   "source": [
    "import pandas as pd\n",
    "names=['Ayush','Avinash','Akash','Anvi']\n",
    "age=[25,30,35,40]\n",
    "city=['hyd','blr','chennai','Mumbai']\n",
    "data=zip(names,age,city)\n",
    "cols=['Names','Age','City']\n",
    "idx=['A','B','C','D']\n",
    "df=pd.DataFrame(data,index=idx,columns=cols)\n",
    "df"
   ]
  },
  {
   "cell_type": "markdown",
   "id": "4bc7ce52-7086-4b9b-b5ac-7eafdb1b5e68",
   "metadata": {},
   "source": [
    "**Note**\n",
    "\n",
    "- Number of list equals to **Number of columns**\n",
    "- Number of values inside list equals to **Number of rows**\n",
    "- when you create the data all the lists will be"
   ]
  },
  {
   "cell_type": "markdown",
   "id": "27e2585c-69aa-40e6-ad9a-0fabda3cb755",
   "metadata": {},
   "source": [
    "$Step-7$\n",
    "\n",
    "**shape**\n",
    "\n",
    "- Number of rows\n",
    "- Nuber of columns"
   ]
  },
  {
   "cell_type": "code",
   "execution_count": 19,
   "id": "a1ee2899-5669-48d9-9bf4-5bf2f0a33668",
   "metadata": {},
   "outputs": [
    {
     "name": "stdout",
     "output_type": "stream",
     "text": [
      "the number of rows are: 4\n",
      "the number of columns are: 3\n"
     ]
    }
   ],
   "source": [
    "df.shape\n",
    "# matrix format\n",
    "# 4 rows and 3 columns\n",
    "print(\"the number of rows are:\",df.shape[0])\n",
    "print(\"the number of columns are:\",df.shape[1])"
   ]
  },
  {
   "cell_type": "markdown",
   "id": "85bad9a2-730e-45e6-a4d7-181d30e37367",
   "metadata": {},
   "source": [
    "$Step-8$\n",
    "\n",
    "**Drop the column**\n",
    "\n",
    "- In order to drop column we require 3 arguments\n",
    "- Column name\n",
    "      - The column name we need to mention\n",
    "- axis\n",
    "    - axis=0 **represents rows**\n",
    "    - axis=1 **represents columns**\n",
    "- inplace\n",
    "    - we are drop column means we are modifying the data frame\n",
    "    - so this modifications we want to save in same variable or different variable\n",
    "    - if you want to keep in the same variable the **inplace=True**"
   ]
  },
  {
   "cell_type": "code",
   "execution_count": 20,
   "id": "9e0c2baa-237b-40fc-a63b-8dd1ef6dd102",
   "metadata": {},
   "outputs": [
    {
     "data": {
      "text/html": [
       "<div>\n",
       "<style scoped>\n",
       "    .dataframe tbody tr th:only-of-type {\n",
       "        vertical-align: middle;\n",
       "    }\n",
       "\n",
       "    .dataframe tbody tr th {\n",
       "        vertical-align: top;\n",
       "    }\n",
       "\n",
       "    .dataframe thead th {\n",
       "        text-align: right;\n",
       "    }\n",
       "</style>\n",
       "<table border=\"1\" class=\"dataframe\">\n",
       "  <thead>\n",
       "    <tr style=\"text-align: right;\">\n",
       "      <th></th>\n",
       "      <th>Names</th>\n",
       "      <th>Age</th>\n",
       "      <th>City</th>\n",
       "    </tr>\n",
       "  </thead>\n",
       "  <tbody>\n",
       "    <tr>\n",
       "      <th>A</th>\n",
       "      <td>Ayush</td>\n",
       "      <td>25</td>\n",
       "      <td>hyd</td>\n",
       "    </tr>\n",
       "    <tr>\n",
       "      <th>B</th>\n",
       "      <td>Avinash</td>\n",
       "      <td>30</td>\n",
       "      <td>blr</td>\n",
       "    </tr>\n",
       "    <tr>\n",
       "      <th>C</th>\n",
       "      <td>Akash</td>\n",
       "      <td>35</td>\n",
       "      <td>chennai</td>\n",
       "    </tr>\n",
       "    <tr>\n",
       "      <th>D</th>\n",
       "      <td>Anvi</td>\n",
       "      <td>40</td>\n",
       "      <td>Mumbai</td>\n",
       "    </tr>\n",
       "  </tbody>\n",
       "</table>\n",
       "</div>"
      ],
      "text/plain": [
       "     Names  Age     City\n",
       "A    Ayush   25      hyd\n",
       "B  Avinash   30      blr\n",
       "C    Akash   35  chennai\n",
       "D     Anvi   40   Mumbai"
      ]
     },
     "execution_count": 20,
     "metadata": {},
     "output_type": "execute_result"
    }
   ],
   "source": [
    "df"
   ]
  },
  {
   "cell_type": "code",
   "execution_count": 21,
   "id": "0c39a57f-631f-4ca3-86bd-30127d812927",
   "metadata": {},
   "outputs": [
    {
     "data": {
      "text/html": [
       "<div>\n",
       "<style scoped>\n",
       "    .dataframe tbody tr th:only-of-type {\n",
       "        vertical-align: middle;\n",
       "    }\n",
       "\n",
       "    .dataframe tbody tr th {\n",
       "        vertical-align: top;\n",
       "    }\n",
       "\n",
       "    .dataframe thead th {\n",
       "        text-align: right;\n",
       "    }\n",
       "</style>\n",
       "<table border=\"1\" class=\"dataframe\">\n",
       "  <thead>\n",
       "    <tr style=\"text-align: right;\">\n",
       "      <th></th>\n",
       "      <th>Names</th>\n",
       "      <th>Age</th>\n",
       "    </tr>\n",
       "  </thead>\n",
       "  <tbody>\n",
       "    <tr>\n",
       "      <th>A</th>\n",
       "      <td>Ayush</td>\n",
       "      <td>25</td>\n",
       "    </tr>\n",
       "    <tr>\n",
       "      <th>B</th>\n",
       "      <td>Avinash</td>\n",
       "      <td>30</td>\n",
       "    </tr>\n",
       "    <tr>\n",
       "      <th>C</th>\n",
       "      <td>Akash</td>\n",
       "      <td>35</td>\n",
       "    </tr>\n",
       "    <tr>\n",
       "      <th>D</th>\n",
       "      <td>Anvi</td>\n",
       "      <td>40</td>\n",
       "    </tr>\n",
       "  </tbody>\n",
       "</table>\n",
       "</div>"
      ],
      "text/plain": [
       "     Names  Age\n",
       "A    Ayush   25\n",
       "B  Avinash   30\n",
       "C    Akash   35\n",
       "D     Anvi   40"
      ]
     },
     "execution_count": 21,
     "metadata": {},
     "output_type": "execute_result"
    }
   ],
   "source": [
    "df.drop('City',axis=1,inplace=True)\n",
    "df"
   ]
  },
  {
   "cell_type": "code",
   "execution_count": 22,
   "id": "f840fda9-d37b-4939-b726-ad4421ed955d",
   "metadata": {},
   "outputs": [
    {
     "data": {
      "text/html": [
       "<div>\n",
       "<style scoped>\n",
       "    .dataframe tbody tr th:only-of-type {\n",
       "        vertical-align: middle;\n",
       "    }\n",
       "\n",
       "    .dataframe tbody tr th {\n",
       "        vertical-align: top;\n",
       "    }\n",
       "\n",
       "    .dataframe thead th {\n",
       "        text-align: right;\n",
       "    }\n",
       "</style>\n",
       "<table border=\"1\" class=\"dataframe\">\n",
       "  <thead>\n",
       "    <tr style=\"text-align: right;\">\n",
       "      <th></th>\n",
       "      <th>Names</th>\n",
       "    </tr>\n",
       "  </thead>\n",
       "  <tbody>\n",
       "    <tr>\n",
       "      <th>A</th>\n",
       "      <td>Ayush</td>\n",
       "    </tr>\n",
       "    <tr>\n",
       "      <th>B</th>\n",
       "      <td>Avinash</td>\n",
       "    </tr>\n",
       "    <tr>\n",
       "      <th>C</th>\n",
       "      <td>Akash</td>\n",
       "    </tr>\n",
       "    <tr>\n",
       "      <th>D</th>\n",
       "      <td>Anvi</td>\n",
       "    </tr>\n",
       "  </tbody>\n",
       "</table>\n",
       "</div>"
      ],
      "text/plain": [
       "     Names\n",
       "A    Ayush\n",
       "B  Avinash\n",
       "C    Akash\n",
       "D     Anvi"
      ]
     },
     "execution_count": 22,
     "metadata": {},
     "output_type": "execute_result"
    }
   ],
   "source": [
    "df1=df.drop('Age',axis=1) \n",
    "df1"
   ]
  },
  {
   "cell_type": "code",
   "execution_count": 23,
   "id": "0c8da294-b291-479f-b12c-a0a0080b3515",
   "metadata": {},
   "outputs": [
    {
     "data": {
      "text/html": [
       "<div>\n",
       "<style scoped>\n",
       "    .dataframe tbody tr th:only-of-type {\n",
       "        vertical-align: middle;\n",
       "    }\n",
       "\n",
       "    .dataframe tbody tr th {\n",
       "        vertical-align: top;\n",
       "    }\n",
       "\n",
       "    .dataframe thead th {\n",
       "        text-align: right;\n",
       "    }\n",
       "</style>\n",
       "<table border=\"1\" class=\"dataframe\">\n",
       "  <thead>\n",
       "    <tr style=\"text-align: right;\">\n",
       "      <th></th>\n",
       "      <th>Names</th>\n",
       "      <th>Age</th>\n",
       "      <th>City</th>\n",
       "    </tr>\n",
       "  </thead>\n",
       "  <tbody>\n",
       "    <tr>\n",
       "      <th>A</th>\n",
       "      <td>Ayush</td>\n",
       "      <td>25</td>\n",
       "      <td>hyd</td>\n",
       "    </tr>\n",
       "    <tr>\n",
       "      <th>B</th>\n",
       "      <td>Avinash</td>\n",
       "      <td>30</td>\n",
       "      <td>blr</td>\n",
       "    </tr>\n",
       "    <tr>\n",
       "      <th>C</th>\n",
       "      <td>Akash</td>\n",
       "      <td>35</td>\n",
       "      <td>chennai</td>\n",
       "    </tr>\n",
       "    <tr>\n",
       "      <th>D</th>\n",
       "      <td>Anvi</td>\n",
       "      <td>40</td>\n",
       "      <td>Mumbai</td>\n",
       "    </tr>\n",
       "  </tbody>\n",
       "</table>\n",
       "</div>"
      ],
      "text/plain": [
       "     Names  Age     City\n",
       "A    Ayush   25      hyd\n",
       "B  Avinash   30      blr\n",
       "C    Akash   35  chennai\n",
       "D     Anvi   40   Mumbai"
      ]
     },
     "execution_count": 23,
     "metadata": {},
     "output_type": "execute_result"
    }
   ],
   "source": [
    "import pandas as pd\n",
    "names=['Ayush','Avinash','Akash','Anvi']\n",
    "age=[25,30,35,40]\n",
    "city=['hyd','blr','chennai','Mumbai']\n",
    "data=zip(names,age,city)\n",
    "cols=['Names','Age','City']\n",
    "idx=['A','B','C','D']\n",
    "df=pd.DataFrame(data,index=idx,columns=cols)\n",
    "df"
   ]
  },
  {
   "cell_type": "code",
   "execution_count": 24,
   "id": "8f44b2ae-e828-413d-9073-9d686ee97f12",
   "metadata": {},
   "outputs": [
    {
     "data": {
      "text/html": [
       "<div>\n",
       "<style scoped>\n",
       "    .dataframe tbody tr th:only-of-type {\n",
       "        vertical-align: middle;\n",
       "    }\n",
       "\n",
       "    .dataframe tbody tr th {\n",
       "        vertical-align: top;\n",
       "    }\n",
       "\n",
       "    .dataframe thead th {\n",
       "        text-align: right;\n",
       "    }\n",
       "</style>\n",
       "<table border=\"1\" class=\"dataframe\">\n",
       "  <thead>\n",
       "    <tr style=\"text-align: right;\">\n",
       "      <th></th>\n",
       "      <th>Names</th>\n",
       "      <th>Age</th>\n",
       "    </tr>\n",
       "  </thead>\n",
       "  <tbody>\n",
       "    <tr>\n",
       "      <th>A</th>\n",
       "      <td>Ayush</td>\n",
       "      <td>25</td>\n",
       "    </tr>\n",
       "    <tr>\n",
       "      <th>B</th>\n",
       "      <td>Avinash</td>\n",
       "      <td>30</td>\n",
       "    </tr>\n",
       "    <tr>\n",
       "      <th>C</th>\n",
       "      <td>Akash</td>\n",
       "      <td>35</td>\n",
       "    </tr>\n",
       "    <tr>\n",
       "      <th>D</th>\n",
       "      <td>Anvi</td>\n",
       "      <td>40</td>\n",
       "    </tr>\n",
       "  </tbody>\n",
       "</table>\n",
       "</div>"
      ],
      "text/plain": [
       "     Names  Age\n",
       "A    Ayush   25\n",
       "B  Avinash   30\n",
       "C    Akash   35\n",
       "D     Anvi   40"
      ]
     },
     "execution_count": 24,
     "metadata": {},
     "output_type": "execute_result"
    }
   ],
   "source": [
    "df.drop('City',axis=1,inplace=True)\n",
    "df"
   ]
  },
  {
   "cell_type": "markdown",
   "id": "2a78fc2d-0aaf-4849-8dc7-c0602d2ef7ec",
   "metadata": {},
   "source": [
    "$Step-9$\n",
    "\n",
    "**Multiple columns drop**"
   ]
  },
  {
   "cell_type": "code",
   "execution_count": 25,
   "id": "c0806804-af63-46b2-ac2e-0f9cc29717a6",
   "metadata": {},
   "outputs": [
    {
     "data": {
      "text/html": [
       "<div>\n",
       "<style scoped>\n",
       "    .dataframe tbody tr th:only-of-type {\n",
       "        vertical-align: middle;\n",
       "    }\n",
       "\n",
       "    .dataframe tbody tr th {\n",
       "        vertical-align: top;\n",
       "    }\n",
       "\n",
       "    .dataframe thead th {\n",
       "        text-align: right;\n",
       "    }\n",
       "</style>\n",
       "<table border=\"1\" class=\"dataframe\">\n",
       "  <thead>\n",
       "    <tr style=\"text-align: right;\">\n",
       "      <th></th>\n",
       "      <th>Names</th>\n",
       "      <th>Age</th>\n",
       "      <th>City</th>\n",
       "    </tr>\n",
       "  </thead>\n",
       "  <tbody>\n",
       "    <tr>\n",
       "      <th>A</th>\n",
       "      <td>Ayush</td>\n",
       "      <td>25</td>\n",
       "      <td>hyd</td>\n",
       "    </tr>\n",
       "    <tr>\n",
       "      <th>B</th>\n",
       "      <td>Avinash</td>\n",
       "      <td>30</td>\n",
       "      <td>blr</td>\n",
       "    </tr>\n",
       "    <tr>\n",
       "      <th>C</th>\n",
       "      <td>Akash</td>\n",
       "      <td>35</td>\n",
       "      <td>chennai</td>\n",
       "    </tr>\n",
       "    <tr>\n",
       "      <th>D</th>\n",
       "      <td>Anvi</td>\n",
       "      <td>40</td>\n",
       "      <td>Mumbai</td>\n",
       "    </tr>\n",
       "  </tbody>\n",
       "</table>\n",
       "</div>"
      ],
      "text/plain": [
       "     Names  Age     City\n",
       "A    Ayush   25      hyd\n",
       "B  Avinash   30      blr\n",
       "C    Akash   35  chennai\n",
       "D     Anvi   40   Mumbai"
      ]
     },
     "execution_count": 25,
     "metadata": {},
     "output_type": "execute_result"
    }
   ],
   "source": [
    "import pandas as pd\n",
    "names=['Ayush','Avinash','Akash','Anvi']\n",
    "age=[25,30,35,40]\n",
    "city=['hyd','blr','chennai','Mumbai']\n",
    "data=zip(names,age,city)\n",
    "cols=['Names','Age','City']\n",
    "idx=['A','B','C','D']\n",
    "df=pd.DataFrame(data,index=idx,columns=cols)\n",
    "df"
   ]
  },
  {
   "cell_type": "code",
   "execution_count": 26,
   "id": "dcf9d2a4-2dc7-4944-ad1b-7dd9d6348595",
   "metadata": {},
   "outputs": [
    {
     "data": {
      "text/html": [
       "<div>\n",
       "<style scoped>\n",
       "    .dataframe tbody tr th:only-of-type {\n",
       "        vertical-align: middle;\n",
       "    }\n",
       "\n",
       "    .dataframe tbody tr th {\n",
       "        vertical-align: top;\n",
       "    }\n",
       "\n",
       "    .dataframe thead th {\n",
       "        text-align: right;\n",
       "    }\n",
       "</style>\n",
       "<table border=\"1\" class=\"dataframe\">\n",
       "  <thead>\n",
       "    <tr style=\"text-align: right;\">\n",
       "      <th></th>\n",
       "      <th>Names</th>\n",
       "    </tr>\n",
       "  </thead>\n",
       "  <tbody>\n",
       "    <tr>\n",
       "      <th>A</th>\n",
       "      <td>Ayush</td>\n",
       "    </tr>\n",
       "    <tr>\n",
       "      <th>B</th>\n",
       "      <td>Avinash</td>\n",
       "    </tr>\n",
       "    <tr>\n",
       "      <th>C</th>\n",
       "      <td>Akash</td>\n",
       "    </tr>\n",
       "    <tr>\n",
       "      <th>D</th>\n",
       "      <td>Anvi</td>\n",
       "    </tr>\n",
       "  </tbody>\n",
       "</table>\n",
       "</div>"
      ],
      "text/plain": [
       "     Names\n",
       "A    Ayush\n",
       "B  Avinash\n",
       "C    Akash\n",
       "D     Anvi"
      ]
     },
     "execution_count": 26,
     "metadata": {},
     "output_type": "execute_result"
    }
   ],
   "source": [
    "df.drop(['Age','City'],axis=1,inplace=True)\n",
    "df"
   ]
  },
  {
   "cell_type": "markdown",
   "id": "12303216-fe9e-4220-ba17-418f8100cb36",
   "metadata": {},
   "source": [
    "$Step-10$\n",
    "\n",
    "**Drop the rows**"
   ]
  },
  {
   "cell_type": "code",
   "execution_count": 27,
   "id": "dab21d80-fdd5-442b-8351-88c75a80fb78",
   "metadata": {},
   "outputs": [
    {
     "data": {
      "text/html": [
       "<div>\n",
       "<style scoped>\n",
       "    .dataframe tbody tr th:only-of-type {\n",
       "        vertical-align: middle;\n",
       "    }\n",
       "\n",
       "    .dataframe tbody tr th {\n",
       "        vertical-align: top;\n",
       "    }\n",
       "\n",
       "    .dataframe thead th {\n",
       "        text-align: right;\n",
       "    }\n",
       "</style>\n",
       "<table border=\"1\" class=\"dataframe\">\n",
       "  <thead>\n",
       "    <tr style=\"text-align: right;\">\n",
       "      <th></th>\n",
       "      <th>Names</th>\n",
       "      <th>Age</th>\n",
       "      <th>City</th>\n",
       "    </tr>\n",
       "  </thead>\n",
       "  <tbody>\n",
       "    <tr>\n",
       "      <th>A</th>\n",
       "      <td>Ayush</td>\n",
       "      <td>25</td>\n",
       "      <td>hyd</td>\n",
       "    </tr>\n",
       "    <tr>\n",
       "      <th>B</th>\n",
       "      <td>Avinash</td>\n",
       "      <td>30</td>\n",
       "      <td>blr</td>\n",
       "    </tr>\n",
       "    <tr>\n",
       "      <th>C</th>\n",
       "      <td>Akash</td>\n",
       "      <td>35</td>\n",
       "      <td>chennai</td>\n",
       "    </tr>\n",
       "    <tr>\n",
       "      <th>D</th>\n",
       "      <td>Anvi</td>\n",
       "      <td>40</td>\n",
       "      <td>Mumbai</td>\n",
       "    </tr>\n",
       "  </tbody>\n",
       "</table>\n",
       "</div>"
      ],
      "text/plain": [
       "     Names  Age     City\n",
       "A    Ayush   25      hyd\n",
       "B  Avinash   30      blr\n",
       "C    Akash   35  chennai\n",
       "D     Anvi   40   Mumbai"
      ]
     },
     "execution_count": 27,
     "metadata": {},
     "output_type": "execute_result"
    }
   ],
   "source": [
    "import pandas as pd\n",
    "names=['Ayush','Avinash','Akash','Anvi']\n",
    "age=[25,30,35,40]\n",
    "city=['hyd','blr','chennai','Mumbai']\n",
    "data=zip(names,age,city)\n",
    "cols=['Names','Age','City']\n",
    "idx=['A','B','C','D']\n",
    "df=pd.DataFrame(data,index=idx,columns=cols)\n",
    "df"
   ]
  },
  {
   "cell_type": "code",
   "execution_count": 28,
   "id": "46d5aea3-0d38-41e1-bafe-ef521a0d1950",
   "metadata": {},
   "outputs": [
    {
     "data": {
      "text/html": [
       "<div>\n",
       "<style scoped>\n",
       "    .dataframe tbody tr th:only-of-type {\n",
       "        vertical-align: middle;\n",
       "    }\n",
       "\n",
       "    .dataframe tbody tr th {\n",
       "        vertical-align: top;\n",
       "    }\n",
       "\n",
       "    .dataframe thead th {\n",
       "        text-align: right;\n",
       "    }\n",
       "</style>\n",
       "<table border=\"1\" class=\"dataframe\">\n",
       "  <thead>\n",
       "    <tr style=\"text-align: right;\">\n",
       "      <th></th>\n",
       "      <th>Names</th>\n",
       "      <th>Age</th>\n",
       "      <th>City</th>\n",
       "    </tr>\n",
       "  </thead>\n",
       "  <tbody>\n",
       "    <tr>\n",
       "      <th>B</th>\n",
       "      <td>Avinash</td>\n",
       "      <td>30</td>\n",
       "      <td>blr</td>\n",
       "    </tr>\n",
       "    <tr>\n",
       "      <th>C</th>\n",
       "      <td>Akash</td>\n",
       "      <td>35</td>\n",
       "      <td>chennai</td>\n",
       "    </tr>\n",
       "    <tr>\n",
       "      <th>D</th>\n",
       "      <td>Anvi</td>\n",
       "      <td>40</td>\n",
       "      <td>Mumbai</td>\n",
       "    </tr>\n",
       "  </tbody>\n",
       "</table>\n",
       "</div>"
      ],
      "text/plain": [
       "     Names  Age     City\n",
       "B  Avinash   30      blr\n",
       "C    Akash   35  chennai\n",
       "D     Anvi   40   Mumbai"
      ]
     },
     "execution_count": 28,
     "metadata": {},
     "output_type": "execute_result"
    }
   ],
   "source": [
    "df.drop('A',axis=0,inplace=True)\n",
    "df"
   ]
  },
  {
   "cell_type": "markdown",
   "id": "c1aa8a45-8fff-4c82-9a4c-3917a6a6a16f",
   "metadata": {},
   "source": [
    "$Step-11$\n",
    "\n",
    "**How to save the data frame**\n",
    "\n",
    "- Generally data frames are two types\n",
    "- csv (comma separated value)\n",
    "- excel"
   ]
  },
  {
   "cell_type": "code",
   "execution_count": 30,
   "id": "3160805f-9a8d-4079-a5dc-bdbe8e98ec30",
   "metadata": {},
   "outputs": [],
   "source": [
    "# file name=data\n",
    "# extension=.csv\n",
    "df.to_csv('data.csv')\n",
    "df.to_csv('data1.csv',index=False)"
   ]
  },
  {
   "cell_type": "code",
   "execution_count": 31,
   "id": "f17aab8c-4d19-4a3b-ab92-2a885e4f8066",
   "metadata": {},
   "outputs": [],
   "source": [
    "# Extension\n",
    "#.xlsx\n",
    "df.to_excel('data2.xlsx',index=False)"
   ]
  },
  {
   "cell_type": "code",
   "execution_count": null,
   "id": "573bf4d4-1689-4190-b3f6-bda5b2a50989",
   "metadata": {},
   "outputs": [],
   "source": []
  }
 ],
 "metadata": {
  "kernelspec": {
   "display_name": "Python 3 (ipykernel)",
   "language": "python",
   "name": "python3"
  },
  "language_info": {
   "codemirror_mode": {
    "name": "ipython",
    "version": 3
   },
   "file_extension": ".py",
   "mimetype": "text/x-python",
   "name": "python",
   "nbconvert_exporter": "python",
   "pygments_lexer": "ipython3",
   "version": "3.11.7"
  }
 },
 "nbformat": 4,
 "nbformat_minor": 5
}
